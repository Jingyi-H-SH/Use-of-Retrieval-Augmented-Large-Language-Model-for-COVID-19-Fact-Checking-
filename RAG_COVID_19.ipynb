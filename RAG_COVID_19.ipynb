{
  "cells": [
    {
      "cell_type": "markdown",
      "id": "5ef6d1d6-400d-4734-9eeb-a7ad11927fec",
      "metadata": {
        "jp-MarkdownHeadingCollapsed": true,
        "tags": [],
        "id": "5ef6d1d6-400d-4734-9eeb-a7ad11927fec"
      },
      "source": [
        "## Prepare Dependencies"
      ]
    },
    {
      "cell_type": "code",
      "execution_count": null,
      "id": "d6a22478-4341-4a55-a669-0627460258e7",
      "metadata": {
        "id": "d6a22478-4341-4a55-a669-0627460258e7"
      },
      "outputs": [],
      "source": [
        "! pip install langchain_community tiktoken langchain-openai langchainhub chromadb langchain langgraph"
      ]
    },
    {
      "cell_type": "code",
      "execution_count": null,
      "id": "e4a69670-5f3a-4008-a779-2414cdd3fd99",
      "metadata": {
        "id": "e4a69670-5f3a-4008-a779-2414cdd3fd99"
      },
      "outputs": [],
      "source": [
        "!pip install datasets\n",
        "from datasets import Dataset\n",
        "!pip install ragas\n",
        "from ragas import evaluate\n",
        "from ragas.metrics import (\n",
        "    faithfulness,\n",
        "    answer_relevancy\n",
        ")"
      ]
    },
    {
      "cell_type": "code",
      "execution_count": null,
      "id": "02757b73-1022-4e05-af85-8fe0d92fa0b8",
      "metadata": {
        "collapsed": true,
        "jupyter": {
          "outputs_hidden": true
        },
        "tags": [],
        "id": "02757b73-1022-4e05-af85-8fe0d92fa0b8"
      },
      "outputs": [],
      "source": [
        "!pip install -U langchain-openai\n",
        "!pip install openai\n",
        "!pip install tiktoken\n",
        "!pip install -U qdrant-client\n",
        "!pip install langchain_experimental\n",
        "!pip install \"langchain[docarray]\""
      ]
    },
    {
      "cell_type": "code",
      "execution_count": null,
      "id": "04bd0fee-62ad-490f-9173-0a9131e99f95",
      "metadata": {
        "id": "04bd0fee-62ad-490f-9173-0a9131e99f95"
      },
      "outputs": [],
      "source": [
        "from openai import OpenAI\n",
        "import httpx\n",
        "\n",
        "#Set the langchain\n",
        "import os\n",
        "os.environ[\"OPENAI_API_BASE\"] = 'https://api.xty.app/v1'\n",
        "os.environ[\"OPENAI_API_KEY\"] = 'sk-xARsvcz0Lu8vU8LzA8F845704f1d4c0180087e19137e0d2e'"
      ]
    },
    {
      "cell_type": "code",
      "execution_count": null,
      "id": "1c9a957d-4cac-4945-8681-7016491e288e",
      "metadata": {
        "tags": [],
        "id": "1c9a957d-4cac-4945-8681-7016491e288e"
      },
      "outputs": [],
      "source": [
        "from langchain.document_loaders import CSVLoader\n",
        "from langchain_openai import OpenAIEmbeddings\n",
        "from qdrant_client import QdrantClient\n",
        "from langchain_community.vectorstores import Qdrant\n",
        "from langchain.chat_models import ChatOpenAI\n",
        "from langchain_openai import ChatOpenAI\n",
        "from langchain.prompts import ChatPromptTemplate\n",
        "from langchain.schema.runnable import RunnablePassthrough\n",
        "from langchain.schema.output_parser import StrOutputParser\n",
        "from langchain.chains import RetrievalQA\n",
        "from langchain.llms import OpenAI"
      ]
    },
    {
      "cell_type": "markdown",
      "id": "f763b9f8-b7c9-48b4-880a-3a5c3c009928",
      "metadata": {
        "jp-MarkdownHeadingCollapsed": true,
        "tags": [],
        "id": "f763b9f8-b7c9-48b4-880a-3a5c3c009928"
      },
      "source": [
        "## Data Prepare"
      ]
    },
    {
      "cell_type": "code",
      "execution_count": null,
      "id": "d630c0db-17a8-4243-9485-0b13c47feff8",
      "metadata": {
        "tags": [],
        "id": "d630c0db-17a8-4243-9485-0b13c47feff8"
      },
      "outputs": [],
      "source": [
        "import pandas as pd\n",
        "c1 = pd.read_csv(\"01-papers.csv\")\n",
        "c2 = pd.read_csv(\"02-papers.csv\")\n",
        "c3 = pd.read_csv(\"03-papers.csv\")\n",
        "c4 = pd.read_csv(\"04-papers.csv\")\n",
        "c5 = pd.read_csv(\"05-papers.csv\")\n",
        "c6 = pd.read_csv(\"06-papers.csv\")\n",
        "c7 = pd.read_csv(\"07-papers.csv\")\n",
        "c8 = pd.read_csv(\"08-papers.csv\")\n",
        "c9 = pd.read_csv(\"09-papers.csv\")\n",
        "c10 = pd.read_csv(\"10-papers.csv\")"
      ]
    },
    {
      "cell_type": "code",
      "execution_count": null,
      "id": "b6c74510-8b90-45ff-a081-b59f1db5a5ef",
      "metadata": {
        "tags": [],
        "id": "b6c74510-8b90-45ff-a081-b59f1db5a5ef"
      },
      "outputs": [],
      "source": [
        "papers = pd.concat([c1,c2,c3,c4,c5,c6,c7,c8,c9,c10], axis=0)"
      ]
    },
    {
      "cell_type": "code",
      "execution_count": null,
      "id": "b23be36c-db2c-46cf-93fa-fcf76da3abb4",
      "metadata": {
        "collapsed": true,
        "jupyter": {
          "outputs_hidden": true
        },
        "tags": [],
        "id": "b23be36c-db2c-46cf-93fa-fcf76da3abb4"
      },
      "outputs": [],
      "source": [
        "papers['info'] = papers['author'].map(str) + papers['year'].map(str) + papers['title'].map(str)\n",
        "data = papers.drop(columns = ['author','year','title'])\n",
        "data.to_csv('001_DATA.csv')"
      ]
    },
    {
      "cell_type": "code",
      "execution_count": null,
      "id": "34fb294f-a08f-4606-bf6c-c2827c2bd047",
      "metadata": {
        "tags": [],
        "id": "34fb294f-a08f-4606-bf6c-c2827c2bd047"
      },
      "outputs": [],
      "source": [
        "pd.set_option('max_colwidth', 700)\n",
        "data"
      ]
    },
    {
      "cell_type": "code",
      "execution_count": null,
      "id": "71738723-3c67-4fcb-b837-9603c980f3af",
      "metadata": {
        "id": "71738723-3c67-4fcb-b837-9603c980f3af"
      },
      "outputs": [],
      "source": [
        "loader = CSVLoader(file_path=\"001_DATA.csv\", source_column=\"info\")\n",
        "data = loader.load()"
      ]
    },
    {
      "cell_type": "code",
      "execution_count": null,
      "id": "d26e3ab2-f8d0-487e-b76f-ac66a143ea42",
      "metadata": {
        "id": "d26e3ab2-f8d0-487e-b76f-ac66a143ea42"
      },
      "outputs": [],
      "source": [
        "from langchain.text_splitter import RecursiveCharacterTextSplitter\n",
        "text_splitter = RecursiveCharacterTextSplitter(chunk_size=1000, chunk_overlap=200)\n",
        "chunks = text_splitter.split_documents(data)\n",
        "print('done.')"
      ]
    },
    {
      "cell_type": "code",
      "execution_count": null,
      "id": "e0352f6a-dda9-45a8-967b-9c0f41e556f8",
      "metadata": {
        "id": "e0352f6a-dda9-45a8-967b-9c0f41e556f8"
      },
      "outputs": [],
      "source": [
        "# Take a look of your documents\n",
        "print (f'Now you have {len(chunks)} documents')\n",
        "print(chunks[90].page_content)"
      ]
    },
    {
      "cell_type": "code",
      "execution_count": null,
      "id": "d7b193b5-b061-4588-8cd3-6dc9435cfbf5",
      "metadata": {
        "id": "d7b193b5-b061-4588-8cd3-6dc9435cfbf5"
      },
      "outputs": [],
      "source": [
        "#Set an embedding model\n",
        "embeddings = OpenAIEmbeddings(model = 'text-embedding-3-small')"
      ]
    },
    {
      "cell_type": "code",
      "execution_count": null,
      "id": "c07617ee-048d-4b63-9914-ad4c11281f03",
      "metadata": {
        "id": "c07617ee-048d-4b63-9914-ad4c11281f03"
      },
      "outputs": [],
      "source": [
        "#Build a vector store\n",
        "story = Qdrant.from_documents(\n",
        "    chunks,\n",
        "    embeddings,\n",
        "    location=\":memory:\",  # Local mode with in-memory storage only\n",
        "    collection_name=\"my_documents\",\n",
        ")"
      ]
    },
    {
      "cell_type": "code",
      "execution_count": null,
      "id": "01c7b046-6f46-4fae-a513-b442723acc70",
      "metadata": {
        "id": "01c7b046-6f46-4fae-a513-b442723acc70"
      },
      "outputs": [],
      "source": [
        "#Build a retriever\n",
        "retriever = story.as_retriever(search_type=\"mmr\") # Maximal marginal relevance"
      ]
    },
    {
      "cell_type": "code",
      "execution_count": null,
      "id": "17422bcb-9c9c-4f51-bf94-2e7d511d5417",
      "metadata": {
        "id": "17422bcb-9c9c-4f51-bf94-2e7d511d5417"
      },
      "outputs": [],
      "source": [
        "documents = chunks"
      ]
    },
    {
      "cell_type": "markdown",
      "id": "100fec50-b46f-4c42-b458-6247b7df3a1d",
      "metadata": {
        "jp-MarkdownHeadingCollapsed": true,
        "tags": [],
        "id": "100fec50-b46f-4c42-b458-6247b7df3a1d"
      },
      "source": [
        "## Prompt"
      ]
    },
    {
      "cell_type": "code",
      "execution_count": null,
      "id": "3cbbecba-35d3-4a88-affb-2e7e1f1b735d",
      "metadata": {
        "id": "3cbbecba-35d3-4a88-affb-2e7e1f1b735d"
      },
      "outputs": [],
      "source": [
        "# Define LLM\n",
        "llm = ChatOpenAI(model_name=\"gpt-4\", temperature=0, max_tokens = 150)\n",
        "\n",
        "# Define prompt template\n",
        "template = \"\"\"You are an expert for the COVID-19 fact-checking tasks.\n",
        "Based on pieces of retrieved context to detect the claim is true or false.\n",
        "You will have to give me the title and author of the context you refered in one sentence.\n",
        "If you don't know the answer, just say that you don't know.\n",
        "Keep the answer concise.\n",
        "Claim: {question}\n",
        "Context: {context}\n",
        "Answer:\n",
        "\"\"\"\n",
        "\n",
        "prompt = ChatPromptTemplate.from_template(template)"
      ]
    },
    {
      "cell_type": "code",
      "execution_count": null,
      "id": "90e663cf-a991-44d7-9c54-e42471192000",
      "metadata": {
        "id": "90e663cf-a991-44d7-9c54-e42471192000"
      },
      "outputs": [],
      "source": [
        "retriever = retriever"
      ]
    },
    {
      "cell_type": "code",
      "execution_count": null,
      "id": "f644f682-eb29-4ca3-a258-7c1947e99cb3",
      "metadata": {
        "id": "f644f682-eb29-4ca3-a258-7c1947e99cb3"
      },
      "outputs": [],
      "source": [
        "# Setup RAG pipeline\n",
        "#retriever = retriever11\n",
        "rag_chain = (\n",
        "    {\"context\": retriever, \"question\": RunnablePassthrough()}\n",
        "    | prompt\n",
        "    | llm\n",
        "    | StrOutputParser()\n",
        ")\n",
        "#compression_retriever_reordered"
      ]
    },
    {
      "cell_type": "code",
      "execution_count": null,
      "id": "c7b88f44-8c39-476a-80b9-e622f08d93d8",
      "metadata": {
        "id": "c7b88f44-8c39-476a-80b9-e622f08d93d8"
      },
      "outputs": [],
      "source": [
        "import pandas as pd\n",
        "claim = pd.read_csv('500_g.csv')\n",
        "claim"
      ]
    },
    {
      "cell_type": "markdown",
      "id": "bc716478-0b35-424b-a923-ea7d2dc529db",
      "metadata": {
        "jp-MarkdownHeadingCollapsed": true,
        "tags": [],
        "id": "bc716478-0b35-424b-a923-ea7d2dc529db"
      },
      "source": [
        "## Baseline"
      ]
    },
    {
      "cell_type": "code",
      "execution_count": null,
      "id": "4c1f8f29-cfc3-498b-aea1-09329dc0d0e7",
      "metadata": {
        "id": "4c1f8f29-cfc3-498b-aea1-09329dc0d0e7"
      },
      "outputs": [],
      "source": [
        "# Define baseline LLM\n",
        "llm_b = ChatOpenAI(model_name=\"gpt-4\", temperature=0,max_tokens = 300)\n",
        "\n",
        "# Define prompt template\n",
        "template_b = \"\"\"You are an expert for the COVID-19 fact-checking tasks.\n",
        "Please check the claim is true or false.\n",
        "If you don't know the answer, just say that you don't know.\n",
        "Use one sentences maximum and keep the answer concise.\n",
        "Claim: {question}\n",
        "Answer:\n",
        "\"\"\"\n",
        "\n",
        "prompt_b = ChatPromptTemplate.from_template(template_b)"
      ]
    },
    {
      "cell_type": "code",
      "execution_count": null,
      "id": "9ac4b3e4-7f3c-4c3d-b40f-fe2f1d4620b8",
      "metadata": {
        "id": "9ac4b3e4-7f3c-4c3d-b40f-fe2f1d4620b8"
      },
      "outputs": [],
      "source": [
        "base_line = pd.read_csv('claim_e.csv')\n",
        "base_line"
      ]
    },
    {
      "cell_type": "code",
      "execution_count": null,
      "id": "90f7e44e-6d96-40eb-a783-19dbb587543f",
      "metadata": {
        "id": "90f7e44e-6d96-40eb-a783-19dbb587543f"
      },
      "outputs": [],
      "source": [
        "rag_chain_b = (\n",
        "    {\"question\": RunnablePassthrough()}\n",
        "    | prompt_b\n",
        "    | llm_b\n",
        "    | StrOutputParser()\n",
        ")"
      ]
    },
    {
      "cell_type": "code",
      "execution_count": null,
      "id": "c2ee1a01-f1ef-4553-b067-9a76480bd404",
      "metadata": {
        "collapsed": true,
        "jupyter": {
          "outputs_hidden": true
        },
        "tags": [],
        "id": "c2ee1a01-f1ef-4553-b067-9a76480bd404"
      },
      "outputs": [],
      "source": [
        "questions = base_line['question']\n",
        "ground_truths = base_line['ground_truths']\n",
        "contexts = []\n",
        "answers = []\n",
        "\n",
        "# Inference\n",
        "for query in questions:\n",
        "    answers.append(rag_chain_b.invoke(query))\n",
        "\n",
        "# To dict\n",
        "data_b = {\n",
        "    \"question\": questions,\n",
        "    \"answer\": answers,\n",
        "    \"ground_truths\": ground_truths\n",
        "}"
      ]
    },
    {
      "cell_type": "code",
      "execution_count": null,
      "id": "188ee23f-8959-4a32-9189-acf2dbe62976",
      "metadata": {
        "id": "188ee23f-8959-4a32-9189-acf2dbe62976"
      },
      "outputs": [],
      "source": [
        "# Convert dict to dataset\n",
        "dataset_b = Dataset.from_dict(data_b)\n",
        "\n",
        "tail = dataset_b.to_pandas()\n",
        "tail.to_csv('gpt-4_b_e.csv')"
      ]
    },
    {
      "cell_type": "code",
      "execution_count": null,
      "id": "a1c834c6-4cfc-4647-a021-9c1cf53af1a4",
      "metadata": {
        "collapsed": true,
        "jupyter": {
          "outputs_hidden": true
        },
        "tags": [],
        "id": "a1c834c6-4cfc-4647-a021-9c1cf53af1a4"
      },
      "outputs": [],
      "source": [
        "tail"
      ]
    },
    {
      "cell_type": "markdown",
      "id": "c2433f90-ae0d-4c64-adce-1bf3f1c1cef0",
      "metadata": {
        "jp-MarkdownHeadingCollapsed": true,
        "tags": [],
        "id": "c2433f90-ae0d-4c64-adce-1bf3f1c1cef0"
      },
      "source": [
        "## Naive RAG"
      ]
    },
    {
      "cell_type": "code",
      "execution_count": null,
      "id": "ef30c20e-106c-4d85-a178-6780d4bc493c",
      "metadata": {
        "id": "ef30c20e-106c-4d85-a178-6780d4bc493c"
      },
      "outputs": [],
      "source": [
        "import warnings\n",
        "warnings.filterwarnings('ignore', category=FutureWarning)"
      ]
    },
    {
      "cell_type": "code",
      "execution_count": null,
      "id": "044daf67-26b2-4980-8ca8-4e410ee44444",
      "metadata": {
        "collapsed": true,
        "jupyter": {
          "outputs_hidden": true
        },
        "tags": [],
        "id": "044daf67-26b2-4980-8ca8-4e410ee44444"
      },
      "outputs": [],
      "source": [
        "questions = claim['question']\n",
        "ground_truths = claim['ground_truths']\n",
        "contexts = []\n",
        "answers = []\n",
        "\n",
        "# Inference\n",
        "for query in questions:\n",
        "    answers.append(rag_chain.invoke(query))\n",
        "    docs = retriever.invoke(query)\n",
        "    contexts.append([docs.page_content for docs in retriever.invoke(query)])\n",
        "    #contexts.append(docs[0].page_content)\n",
        "\n",
        "# To dict\n",
        "data = {\n",
        "    \"question\": questions,\n",
        "    \"answer\": answers,\n",
        "    'contexts': contexts,\n",
        "    \"ground_truths\": ground_truths\n",
        "}\n",
        "\n",
        "# Convert dict to dataset\n",
        "dataset = Dataset.from_dict(data)\n",
        "\n",
        "result = evaluate(\n",
        "    dataset = dataset,\n",
        "    metrics=[\n",
        "        answer_relevancy],\n",
        ")\n",
        "\n",
        "res = result.to_pandas()"
      ]
    },
    {
      "cell_type": "code",
      "execution_count": null,
      "id": "d962aa34-ba5d-4dc8-bff8-ff219bc1ee92",
      "metadata": {
        "collapsed": true,
        "jupyter": {
          "outputs_hidden": true
        },
        "tags": [],
        "id": "d962aa34-ba5d-4dc8-bff8-ff219bc1ee92"
      },
      "outputs": [],
      "source": [
        "res = dataset.to_pandas()\n",
        "res"
      ]
    },
    {
      "cell_type": "code",
      "execution_count": null,
      "id": "82028468-e92e-491c-9b6c-dc4beb8241e5",
      "metadata": {
        "id": "82028468-e92e-491c-9b6c-dc4beb8241e5"
      },
      "outputs": [],
      "source": [
        "res.to_csv('naive_rag_e.csv')"
      ]
    },
    {
      "cell_type": "markdown",
      "metadata": {
        "jp-MarkdownHeadingCollapsed": true,
        "tags": [],
        "id": "ff23341f-a985-4d4e-b160-be91dfb2cf23"
      },
      "source": [
        "## LOTR-RAG"
      ],
      "id": "ff23341f-a985-4d4e-b160-be91dfb2cf23"
    },
    {
      "cell_type": "code",
      "execution_count": null,
      "metadata": {
        "id": "eae1f3ec-2882-460c-8db2-5f35b8b9329f"
      },
      "outputs": [],
      "source": [
        "embedding_2 = HuggingFaceEmbeddings(model_name=\"all-MiniLM-L6-v2\")\n",
        "\n",
        "story_2 = Qdrant.from_documents(\n",
        "    chunks,\n",
        "    embedding_2,\n",
        "    location=\":memory:\",  # Local mode with in-memory storage only\n",
        "    collection_name=\"my_documents\",\n",
        ")\n",
        "\n",
        "#Build a retriever\n",
        "retriever_2 = story_2.as_retriever(search_type=\"mmr\") # Maximal marginal relevance"
      ],
      "id": "eae1f3ec-2882-460c-8db2-5f35b8b9329f"
    },
    {
      "cell_type": "code",
      "execution_count": null,
      "metadata": {
        "id": "4ae77855-ca81-49f9-a507-da9112a1d4cb"
      },
      "outputs": [],
      "source": [
        "from langchain.retrievers import ContextualCompressionRetriever\n",
        "from langchain.retrievers.document_compressors import DocumentCompressorPipeline\n",
        "from langchain.retrievers.merger_retriever import MergerRetriever\n",
        "\n",
        "lotr_full = MergerRetriever(retrievers=[retriever,retriever_2])"
      ],
      "id": "4ae77855-ca81-49f9-a507-da9112a1d4cb"
    },
    {
      "cell_type": "code",
      "execution_count": null,
      "metadata": {
        "id": "a2bdbc7e-7b3c-4b5f-b584-d21ed25d6ac3"
      },
      "outputs": [],
      "source": [
        "#Test the Mergered Retrievers.\n",
        "docs = lotr_full.invoke(\n",
        "    \"What is COVID-19?\")\n",
        "print(len(docs))"
      ],
      "id": "a2bdbc7e-7b3c-4b5f-b584-d21ed25d6ac3"
    },
    {
      "cell_type": "code",
      "execution_count": null,
      "metadata": {
        "id": "3231e7d5-022e-4633-899a-358e58614395"
      },
      "outputs": [],
      "source": [
        "# Build the Filter and Reordering. Please Attention to the cost.\n",
        "from langchain.document_transformers import (\n",
        "     EmbeddingsClusteringFilter,\n",
        "     EmbeddingsRedundantFilter,\n",
        " )\n",
        "filter = EmbeddingsRedundantFilter(embeddings=embeddings)\n",
        "pipeline = DocumentCompressorPipeline(transformers=[filter])\n",
        "compression_retriever = ContextualCompressionRetriever(base_compressor=pipeline,\n",
        "                                                       base_retriever=lotr_full)\n",
        "docs = compression_retriever.invoke(\n",
        "    \"What is COVID-19?\")\n",
        "print(len(docs))"
      ],
      "id": "3231e7d5-022e-4633-899a-358e58614395"
    },
    {
      "cell_type": "code",
      "execution_count": null,
      "metadata": {
        "tags": [],
        "id": "80f50104-de31-4187-9880-97c5a422c1e9"
      },
      "outputs": [],
      "source": [
        "from re import search\n",
        "from langchain.document_transformers import LongContextReorder\n",
        "reordering = LongContextReorder()\n",
        "pipeline = DocumentCompressorPipeline(transformers=[filter, reordering])\n",
        "compression_retriever_reordered = ContextualCompressionRetriever(\n",
        "     base_compressor=pipeline, base_retriever=lotr_full,search_kwargs={\"k\": 3, \"include_metadata\": True}\n",
        " )\n",
        "docs = compression_retriever_reordered.get_relevant_documents(\n",
        "    \"What is COVID-19?\")\n",
        "print(len(docs))"
      ],
      "id": "80f50104-de31-4187-9880-97c5a422c1e9"
    },
    {
      "cell_type": "code",
      "execution_count": null,
      "metadata": {
        "id": "af1d984f-bfbe-479d-962b-5e6493fc2031"
      },
      "outputs": [],
      "source": [
        "# Setup Naive RAG chain\n",
        "\n",
        "rag_chain_lotr = (\n",
        "    {\"context\": compression_retriever_reordered, \"questions\": RunnablePassthrough()}\n",
        "    | prompt\n",
        "    | llm\n",
        "    | StrOutputParser()\n",
        ")"
      ],
      "id": "af1d984f-bfbe-479d-962b-5e6493fc2031"
    },
    {
      "cell_type": "code",
      "execution_count": null,
      "metadata": {
        "id": "31451cd8-5a60-45d9-8b07-0bcf33dcc4d5"
      },
      "outputs": [],
      "source": [
        "questions = claim['question']\n",
        "ground_truths = claim['ground_truths']\n",
        "contexts = []\n",
        "answers = []\n",
        "\n",
        "# Inference\n",
        "for query in questions:\n",
        "    answers.append(rag_chain_lotr.invoke(query))\n",
        "    docs = compression_retriever_reordered.invoke(query)\n",
        "    contexts.append([docs.page_content for docs in compression_retriever_reordered.invoke(query)])\n",
        "    #contexts.append(docs[0].page_content)"
      ],
      "id": "31451cd8-5a60-45d9-8b07-0bcf33dcc4d5"
    },
    {
      "cell_type": "code",
      "execution_count": null,
      "metadata": {
        "collapsed": true,
        "jupyter": {
          "outputs_hidden": true
        },
        "tags": [],
        "id": "94c16e1f-9655-459e-8b97-ae831e4b3507"
      },
      "outputs": [],
      "source": [
        "# To dict\n",
        "dict_lotr = {\n",
        "    \"question\": questions,\n",
        "    \"answer\": answers,\n",
        "    'contexts': contexts,\n",
        "    \"path_id\": path_id\n",
        "}\n",
        "\n",
        "res_lotr = pd.DataFrame(dict_lotr)\n",
        "res_lotr"
      ],
      "id": "94c16e1f-9655-459e-8b97-ae831e4b3507"
    },
    {
      "cell_type": "code",
      "execution_count": null,
      "metadata": {
        "id": "432b044d-0824-4556-8116-080e5cabc270"
      },
      "outputs": [],
      "source": [
        "res_lotr.to_csv('LOTR-RAG-Res-E.csv')"
      ],
      "id": "432b044d-0824-4556-8116-080e5cabc270"
    },
    {
      "cell_type": "code",
      "execution_count": null,
      "metadata": {
        "collapsed": true,
        "jupyter": {
          "outputs_hidden": true
        },
        "tags": [],
        "id": "95555d99-43d4-486c-af0a-3c404867c908"
      },
      "outputs": [],
      "source": [
        "# Combine the results\n",
        "res_lotr = pd.read_csv('LOTR-RAG-Res-E.csv')\n",
        "# 给DataFrame应用函数\n",
        "l_rag=res_lotr.groupby(['path_id'])['question'].apply(list).to_frame()\n",
        "l_rag['question']=l_rag['question'].apply(lambda x:str(x).replace('[','').replace(']',''))\n",
        "o_rag=res_n.groupby(['path_id'])['answer'].apply(list).to_frame()\n",
        "o_rag['question']=o_rag['answer'].apply(lambda x:str(x).replace('[','').replace(']',''))\n",
        "o_rag"
      ],
      "id": "95555d99-43d4-486c-af0a-3c404867c908"
    },
    {
      "cell_type": "code",
      "execution_count": null,
      "metadata": {
        "id": "0247c0f0-0c5c-4a62-802b-9ea07d7ff8a4"
      },
      "outputs": [],
      "source": [
        "o_rag.to_csv('C-LOTR-RAG-Res-E.csv')"
      ],
      "id": "0247c0f0-0c5c-4a62-802b-9ea07d7ff8a4"
    },
    {
      "cell_type": "code",
      "execution_count": null,
      "metadata": {
        "id": "2df5c347-c6d3-4967-baf0-fc991d031a63"
      },
      "outputs": [],
      "source": [
        "df = pd.read_csv('SP.csv')\n",
        "df"
      ],
      "id": "2df5c347-c6d3-4967-baf0-fc991d031a63"
    },
    {
      "cell_type": "markdown",
      "id": "17ea1311-3d17-4e81-86da-905ec5c9555e",
      "metadata": {
        "jp-MarkdownHeadingCollapsed": true,
        "tags": [],
        "id": "17ea1311-3d17-4e81-86da-905ec5c9555e"
      },
      "source": [
        "## Corrective RAG (CRAG)"
      ]
    },
    {
      "cell_type": "code",
      "execution_count": null,
      "id": "f7b3a9a7-1100-4020-9b3f-916e33191288",
      "metadata": {
        "id": "f7b3a9a7-1100-4020-9b3f-916e33191288"
      },
      "outputs": [],
      "source": [
        "# Implement the Router\n",
        "\n",
        "import time\n",
        "from langchain.prompts import PromptTemplate\n",
        "from langchain_core.output_parsers import JsonOutputParser\n",
        "from langchain_core.output_parsers import StrOutputParser\n",
        "vectorstore = story\n",
        "llm_w = ChatOpenAI(model=\"gpt-4\", temperature=0)\n",
        "prompt = PromptTemplate(\n",
        "    template=\"\"\"<|begin_of_text|><|start_header_id|>system<|end_header_id|> You are an expert at routing a\n",
        "    user question to a vectorstore or web search. Use the vectorstore for questions on COVID-19.\n",
        "    You do not need to be stringent with the keywords.\n",
        "    in the question related to these topics. Otherwise, use web-search. Give a binary choice 'web_search'\n",
        "    or 'vectorstore' based on the question.\n",
        "    Return the a choice with a single key 'datasource' and no premable or explaination.\n",
        "    Question to route: {question} <|eot_id|><|start_header_id|>assistant<|end_header_id|>\"\"\",\n",
        "    input_variables=[\"question\"],\n",
        ")\n",
        "start = time.time()\n",
        "question_router = prompt | llm_w | JsonOutputParser()\n",
        "#\n",
        "question = \"High levels of a cytokine called interleukin-6 (IL-6) are not associated with respiratory failure and death in COVID-19 patients.\"\n",
        "print(question_router.invoke({\"question\": question}))\n",
        "end = time.time()\n",
        "print(f\"The time required to generate response by Router Chain in seconds:{end - start}\")"
      ]
    },
    {
      "cell_type": "code",
      "execution_count": null,
      "id": "4a143913-2a12-4ce4-81fa-7786d76e657d",
      "metadata": {
        "tags": [],
        "id": "4a143913-2a12-4ce4-81fa-7786d76e657d"
      },
      "outputs": [],
      "source": [
        "# Implement the retrieval_grader\n",
        "\n",
        "import time\n",
        "from langchain.prompts import PromptTemplate\n",
        "from langchain_core.output_parsers import JsonOutputParser\n",
        "from langchain_core.output_parsers import StrOutputParser\n",
        "\n",
        "prompt = PromptTemplate(\n",
        "    template=\"\"\"<|begin_of_text|><|start_header_id|>system<|end_header_id|> You are a grader assessing relevance\n",
        "    of a retrieved document to a user question. If the document contains keywords related to the user question,\n",
        "    grade it as relevant. It does not need to be a stringent test. The goal is to filter out erroneous retrievals. \\n\n",
        "    Give a binary score 'yes' or 'no' score to indicate whether the document is relevant to the question. \\n\n",
        "    Provide the binary score as a JSON with a single key 'score' and no premable or explaination.\n",
        "     <|eot_id|><|start_header_id|>user<|end_header_id|>\n",
        "    Here is the retrieved document: \\n\\n {document} \\n\\n\n",
        "    Here is the user question: {question} \\n <|eot_id|><|start_header_id|>assistant<|end_header_id|>\n",
        "    \"\"\",\n",
        "    input_variables=[\"question\", \"document\"],\n",
        ")\n",
        "\n",
        "# LLM with function call\n",
        "llm = ChatOpenAI(model=\"gpt-4\", temperature=0)\n",
        "\n",
        "start = time.time()\n",
        "retrieval_grader = prompt | llm | JsonOutputParser()\n",
        "\n",
        "docs = retriever.invoke(question)\n",
        "doc_txt = docs[1].page_content\n",
        "print(retrieval_grader.invoke({\"question\": question, \"document\": doc_txt}))\n",
        "end = time.time()\n",
        "print(f\"The time required to generate response by the retrieval grader in seconds:{end - start}\")"
      ]
    },
    {
      "cell_type": "code",
      "execution_count": null,
      "id": "6f7be4ac-df53-477f-9db6-f0e83ef31b21",
      "metadata": {
        "id": "6f7be4ac-df53-477f-9db6-f0e83ef31b21"
      },
      "outputs": [],
      "source": [
        "## Implement the Generate Chain\n",
        "\n",
        "prompt = PromptTemplate(\n",
        "    template=\"\"\"<|begin_of_text|><|start_header_id|>system<|end_header_id|>\n",
        "    You are an expert for the COVID-19 fact-checking tasks.\n",
        "    Based on pieces of retrieved context to detect the claim is true or false.\n",
        "    You will have to give me the title and author of the context you refered in one sentence.\n",
        "    Use three sentences maximum and keep the answer concise.\n",
        "    If you don't know the answer, just say that you don't know. <|eot_id|><|start_header_id|>user<|end_header_id|>\n",
        "    Question: {question}\n",
        "    Context: {context}\n",
        "    Answer: <|eot_id|><|start_header_id|>assistant<|end_header_id|>\"\"\",\n",
        "    input_variables=[\"question\", \"document\"],\n",
        ")\n",
        "\n",
        "# Post-processing\n",
        "def format_docs(docs):\n",
        "    return \"\\n\\n\".join(doc.page_content for doc in docs)\n",
        "\n",
        "# LLM\n",
        "llm_g = ChatOpenAI(model_name=\"gpt-4\", temperature=0)\n",
        "\n",
        "# Chain\n",
        "start = time.time()\n",
        "rag_chain = prompt | llm_g | StrOutputParser()\n",
        "\n",
        "# Run\n",
        "generation = rag_chain.invoke({\"context\": docs, \"question\": question})\n",
        "print(generation)"
      ]
    },
    {
      "cell_type": "code",
      "execution_count": null,
      "id": "d108ced1-ba16-43aa-a49d-ec7a0025efc3",
      "metadata": {
        "tags": [],
        "id": "d108ced1-ba16-43aa-a49d-ec7a0025efc3"
      },
      "outputs": [],
      "source": [
        "# Implement the hallucination grader\n",
        "\n",
        "# Prompt\n",
        "prompt = PromptTemplate(\n",
        "    template=\"\"\" <|begin_of_text|><|start_header_id|>system<|end_header_id|> You are a grader assessing whether\n",
        "    an answer is grounded in / supported by a set of facts. Give a binary 'yes' or 'no' score to indicate\n",
        "    whether the answer is grounded in / supported by a set of facts. Provide the binary score as a JSON with a\n",
        "    single key 'score' and no preamble or explanation. <|eot_id|><|start_header_id|>user<|end_header_id|>\n",
        "    Here are the facts:\n",
        "    \\n ------- \\n\n",
        "    {documents}\n",
        "    \\n ------- \\n\n",
        "    Here is the answer: {generation}  <|eot_id|><|start_header_id|>assistant<|end_header_id|>\"\"\",\n",
        "    input_variables=[\"generation\", \"documents\"],\n",
        ")\n",
        "start = time.time()\n",
        "hallucination_grader = prompt | llm | JsonOutputParser()\n",
        "hallucination_grader_response = hallucination_grader.invoke({\"documents\": docs, \"generation\": generation})\n",
        "\n",
        "end = time.time()\n",
        "print(f\"The time required to generate response by the generation chain in seconds:{end - start}\")\n",
        "print(hallucination_grader_response)"
      ]
    },
    {
      "cell_type": "code",
      "execution_count": null,
      "id": "cbf6dd01-3cf3-4610-b876-1efa391e8629",
      "metadata": {
        "id": "cbf6dd01-3cf3-4610-b876-1efa391e8629"
      },
      "outputs": [],
      "source": [
        "### Answer Grader\n",
        "\n",
        "# Prompt\n",
        "prompt = PromptTemplate(\n",
        "    template=\"\"\"<|begin_of_text|><|start_header_id|>system<|end_header_id|> You are a grader assessing whether an\n",
        "    answer is useful to resolve a question. Give a binary score 'yes' or 'no' to indicate whether the answer is\n",
        "    useful to resolve a question. Provide the binary score as a JSON with a single key 'score' and no preamble or explanation.\n",
        "     <|eot_id|><|start_header_id|>user<|end_header_id|> Here is the answer:\n",
        "    \\n ------- \\n\n",
        "    {generation}\n",
        "    \\n ------- \\n\n",
        "    Here is the question: {question} <|eot_id|><|start_header_id|>assistant<|end_header_id|>\"\"\",\n",
        "    input_variables=[\"generation\", \"question\"],\n",
        ")\n",
        "start = time.time()\n",
        "answer_grader = prompt | llm | JsonOutputParser()\n",
        "answer_grader_response = answer_grader.invoke({\"question\": question,\"generation\": generation})\n",
        "end = time.time()\n",
        "print(f\"The time required to generate response by the answer grader in seconds:{end - start}\")\n",
        "print(answer_grader_response)"
      ]
    },
    {
      "cell_type": "code",
      "execution_count": null,
      "id": "565e631a-c7f6-411f-9f07-c8792bf696ec",
      "metadata": {
        "id": "565e631a-c7f6-411f-9f07-c8792bf696ec"
      },
      "outputs": [],
      "source": [
        "# Implement Web Search tool\n",
        "\n",
        "import os\n",
        "from langchain.utilities.tavily_search import TavilySearchAPIWrapper\n",
        "from langchain_community.tools.tavily_search import TavilySearchResults\n",
        "os.environ['TAVILY_API_KEY'] = \"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\"\n",
        "#search = TavilySearchAPIWrapper()\n",
        "\n",
        "web_search_tool = TavilySearchResults(k=3)"
      ]
    },
    {
      "cell_type": "markdown",
      "id": "4129ac91-3d84-464d-903f-e09020226f78",
      "metadata": {
        "jp-MarkdownHeadingCollapsed": true,
        "tags": [],
        "id": "4129ac91-3d84-464d-903f-e09020226f78"
      },
      "source": [
        "## Define the Graph State"
      ]
    },
    {
      "cell_type": "code",
      "execution_count": null,
      "id": "b238bd8a-c978-4979-b950-d9fc64b7ecb2",
      "metadata": {
        "id": "b238bd8a-c978-4979-b950-d9fc64b7ecb2"
      },
      "outputs": [],
      "source": [
        "from typing_extensions import TypedDict\n",
        "from typing import List\n",
        "\n",
        "### State\n",
        "\n",
        "class GraphState(TypedDict):\n",
        "    question : str\n",
        "    generation : str\n",
        "    web_search : str\n",
        "    documents : List[str]"
      ]
    },
    {
      "cell_type": "code",
      "execution_count": null,
      "id": "ed0ec2c8-1ba3-42b2-9f76-efa75a0aea05",
      "metadata": {
        "id": "ed0ec2c8-1ba3-42b2-9f76-efa75a0aea05"
      },
      "outputs": [],
      "source": [
        "## Define nodes\n",
        "\n",
        "from langchain.schema import Document\n",
        "def retrieve(state):\n",
        "    \"\"\"\n",
        "    Retrieve documents from vectorstore\n",
        "\n",
        "    Args:\n",
        "        state (dict): The current graph state\n",
        "\n",
        "    Returns:\n",
        "        state (dict): New key added to state, documents, that contains retrieved documents\n",
        "    \"\"\"\n",
        "    print(\"---RETRIEVE---\")\n",
        "    question = state[\"question\"]\n",
        "\n",
        "    # Retrieval\n",
        "    documents = retriever.invoke(question)\n",
        "    return {\"documents\": documents, \"question\": question}\n",
        "#\n",
        "def generate(state):\n",
        "    \"\"\"\n",
        "    Generate answer using RAG on retrieved documents\n",
        "\n",
        "    Args:\n",
        "        state (dict): The current graph state\n",
        "\n",
        "    Returns:\n",
        "        state (dict): New key added to state, generation, that contains LLM generation\n",
        "    \"\"\"\n",
        "    print(\"---GENERATE---\")\n",
        "    question = state[\"question\"]\n",
        "    documents = state[\"documents\"]\n",
        "\n",
        "    # RAG generation\n",
        "    generation = rag_chain.invoke({\"context\": documents, \"question\": question})\n",
        "    return {\"documents\": documents, \"question\": question, \"generation\": generation}\n",
        "#\n",
        "def grade_documents(state):\n",
        "    \"\"\"\n",
        "    Determines whether the retrieved documents are relevant to the question\n",
        "    If any document is not relevant, we will set a flag to run web search\n",
        "\n",
        "    Args:\n",
        "        state (dict): The current graph state\n",
        "\n",
        "    Returns:\n",
        "        state (dict): Filtered out irrelevant documents and updated web_search state\n",
        "    \"\"\"\n",
        "\n",
        "    print(\"---CHECK DOCUMENT RELEVANCE TO QUESTION---\")\n",
        "    question = state[\"question\"]\n",
        "    documents = state[\"documents\"]\n",
        "\n",
        "    # Score each doc\n",
        "    filtered_docs = []\n",
        "    web_search = \"No\"\n",
        "    for d in documents:\n",
        "        score = retrieval_grader.invoke({\"question\": question, \"document\": d.page_content})\n",
        "        grade = score['score']\n",
        "        # Document relevant\n",
        "        if grade.lower() == \"yes\":\n",
        "            print(\"---GRADE: DOCUMENT RELEVANT---\")\n",
        "            filtered_docs.append(d)\n",
        "        # Document not relevant\n",
        "        else:\n",
        "            print(\"---GRADE: DOCUMENT NOT RELEVANT---\")\n",
        "            # We do not include the document in filtered_docs\n",
        "            # We set a flag to indicate that we want to run web search\n",
        "            web_search = \"Yes\"\n",
        "            continue\n",
        "    return {\"documents\": filtered_docs, \"question\": question, \"web_search\": web_search}\n",
        "#\n",
        "def web_search(state):\n",
        "    \"\"\"\n",
        "    Web search based based on the question\n",
        "\n",
        "    Args:\n",
        "        state (dict): The current graph state\n",
        "\n",
        "    Returns:\n",
        "        state (dict): Appended web results to documents\n",
        "    \"\"\"\n",
        "\n",
        "    print(\"---WEB SEARCH---\")\n",
        "    question = state[\"question\"]\n",
        "    documents = state[\"documents\"]\n",
        "\n",
        "    # Web search\n",
        "    docs = web_search_tool.invoke({\"query\": question})\n",
        "    web_results = \"\\n\".join([d[\"content\"] for d in docs])\n",
        "    web_results = Document(page_content=web_results)\n",
        "    if documents is not None:\n",
        "        documents.append(web_results)\n",
        "    else:\n",
        "        documents = [web_results]\n",
        "    return {\"documents\": documents, \"question\": question}\n",
        "#"
      ]
    },
    {
      "cell_type": "code",
      "execution_count": null,
      "id": "91d19a01-1375-4151-9291-1ee3716e00b3",
      "metadata": {
        "id": "91d19a01-1375-4151-9291-1ee3716e00b3"
      },
      "outputs": [],
      "source": [
        "## Define edges\n",
        "\n",
        "def route_question(state):\n",
        "    \"\"\"\n",
        "    Route question to web search or RAG.\n",
        "\n",
        "    Args:\n",
        "        state (dict): The current graph state\n",
        "\n",
        "    Returns:\n",
        "        str: Next node to call\n",
        "    \"\"\"\n",
        "\n",
        "    print(\"---ROUTE QUESTION---\")\n",
        "    question = state[\"question\"]\n",
        "    print(question)\n",
        "    source = question_router.invoke({\"question\": question})\n",
        "    print(source)\n",
        "    print(source['datasource'])\n",
        "    if source['datasource'] == 'web_search':\n",
        "        print(\"---ROUTE QUESTION TO WEB SEARCH---\")\n",
        "        return \"websearch\"\n",
        "    elif source['datasource'] == 'vectorstore':\n",
        "        print(\"---ROUTE QUESTION TO RAG---\")\n",
        "        return \"vectorstore\"\n",
        "def decide_to_generate(state):\n",
        "    \"\"\"\n",
        "    Determines whether to generate an answer, or add web search\n",
        "\n",
        "    Args:\n",
        "        state (dict): The current graph state\n",
        "\n",
        "    Returns:\n",
        "        str: Binary decision for next node to call\n",
        "    \"\"\"\n",
        "\n",
        "    print(\"---ASSESS GRADED DOCUMENTS---\")\n",
        "    question = state[\"question\"]\n",
        "    web_search = state[\"web_search\"]\n",
        "    filtered_documents = state[\"documents\"]\n",
        "\n",
        "    if web_search == \"Yes\":\n",
        "        # All documents have been filtered check_relevance\n",
        "        # We will re-generate a new query\n",
        "        print(\"---DECISION: ALL DOCUMENTS ARE NOT RELEVANT TO QUESTION, INCLUDE WEB SEARCH---\")\n",
        "        return \"websearch\"\n",
        "    else:\n",
        "        # We have relevant documents, so generate answer\n",
        "        print(\"---DECISION: GENERATE---\")\n",
        "        return \"generate\""
      ]
    },
    {
      "cell_type": "code",
      "execution_count": null,
      "id": "79dae61c-737c-497e-b0ba-79c010460c1e",
      "metadata": {
        "id": "79dae61c-737c-497e-b0ba-79c010460c1e"
      },
      "outputs": [],
      "source": [
        "def grade_generation_v_documents_and_question(state):\n",
        "    \"\"\"\n",
        "    Determines whether the generation is grounded in the document and answers question.\n",
        "\n",
        "    Args:\n",
        "        state (dict): The current graph state\n",
        "\n",
        "    Returns:\n",
        "        str: Decision for next node to call\n",
        "    \"\"\"\n",
        "\n",
        "    print(\"---CHECK HALLUCINATIONS---\")\n",
        "    question = state[\"question\"]\n",
        "    documents = state[\"documents\"]\n",
        "    generation = state[\"generation\"]\n",
        "\n",
        "    score = hallucination_grader.invoke({\"documents\": documents, \"generation\": generation})\n",
        "    grade = score['score']\n",
        "\n",
        "    # Check hallucination\n",
        "    if grade == \"yes\":\n",
        "        print(\"---DECISION: GENERATION IS GROUNDED IN DOCUMENTS---\")\n",
        "        # Check question-answering\n",
        "        print(\"---GRADE GENERATION vs QUESTION---\")\n",
        "        score = answer_grader.invoke({\"question\": question,\"generation\": generation})\n",
        "        grade = score['score']\n",
        "        if grade == \"yes\":\n",
        "            print(\"---DECISION: GENERATION ADDRESSES QUESTION---\")\n",
        "            return \"useful\"\n",
        "        else:\n",
        "            print(\"---DECISION: GENERATION DOES NOT ADDRESS QUESTION---\")\n",
        "            return \"not useful\"\n",
        "    else:\n",
        "        pprint(\"---DECISION: GENERATION IS NOT GROUNDED IN DOCUMENTS, RE-TRY---\")\n",
        "        return \"not supported\""
      ]
    },
    {
      "cell_type": "code",
      "execution_count": null,
      "id": "a1ffe390-f464-4f88-8807-2edaff150743",
      "metadata": {
        "id": "a1ffe390-f464-4f88-8807-2edaff150743"
      },
      "outputs": [],
      "source": [
        "## Add nodes\n",
        "\n",
        "from langgraph.graph import END, StateGraph\n",
        "workflow = StateGraph(GraphState)\n",
        "\n",
        "# Define the nodes\n",
        "workflow.add_node(\"websearch\", web_search) # web search\n",
        "workflow.add_node(\"retrieve\", retrieve) # retrieve\n",
        "workflow.add_node(\"grade_documents\", grade_documents) # grade documents\n",
        "workflow.add_node(\"generate\", generate) # generatae"
      ]
    },
    {
      "cell_type": "code",
      "execution_count": null,
      "id": "bb1e0969-687f-40fe-84a0-5a0ec1bf4d7d",
      "metadata": {
        "id": "bb1e0969-687f-40fe-84a0-5a0ec1bf4d7d"
      },
      "outputs": [],
      "source": [
        "## Set the Entry Point and End Point\n",
        "\n",
        "workflow.set_conditional_entry_point(\n",
        "    route_question,\n",
        "    {\n",
        "        \"websearch\": \"websearch\",\n",
        "        \"vectorstore\": \"retrieve\",\n",
        "    },\n",
        ")\n",
        "\n",
        "workflow.add_edge(\"retrieve\", \"grade_documents\")\n",
        "workflow.add_conditional_edges(\n",
        "    \"grade_documents\",\n",
        "    decide_to_generate,\n",
        "    {\n",
        "        \"websearch\": \"websearch\",\n",
        "        \"generate\": \"generate\",\n",
        "    },\n",
        ")\n",
        "workflow.add_edge(\"websearch\", \"generate\")\n",
        "workflow.add_conditional_edges(\n",
        "    \"generate\",\n",
        "    grade_generation_v_documents_and_question,\n",
        "    {\n",
        "        \"not supported\": \"generate\",\n",
        "        \"useful\": END,\n",
        "        \"not useful\": \"websearch\",\n",
        "    },\n",
        ")"
      ]
    },
    {
      "cell_type": "code",
      "execution_count": null,
      "id": "211ab278-9eb1-4d83-a726-2a5d40aac7fc",
      "metadata": {
        "id": "211ab278-9eb1-4d83-a726-2a5d40aac7fc"
      },
      "outputs": [],
      "source": [
        "## Compile the workflow\n",
        "\n",
        "app = workflow.compile()"
      ]
    },
    {
      "cell_type": "code",
      "execution_count": null,
      "id": "b240be84-afc0-444a-8ead-dcb2af0a687c",
      "metadata": {
        "tags": [],
        "id": "b240be84-afc0-444a-8ead-dcb2af0a687c"
      },
      "outputs": [],
      "source": [
        "## Test the workflow\n",
        "\n",
        "from pprint import pprint\n",
        "inputs = {\"question\": \" Posts on social media claim the US Centers for Disease Control and Prevention (CDC) has revised down its death toll for COVID-19.\"}\n",
        "for output in app.stream(inputs):\n",
        "    for key, value in output.items():\n",
        "        pprint(f\"Finished running: {key}:\")\n",
        "pprint(value[\"generation\"])"
      ]
    },
    {
      "cell_type": "markdown",
      "id": "a09705cd-7625-40e9-aa25-1563199ae973",
      "metadata": {
        "jp-MarkdownHeadingCollapsed": true,
        "tags": [],
        "id": "a09705cd-7625-40e9-aa25-1563199ae973"
      },
      "source": [
        "## Corrective RAG (CRAG) Performance"
      ]
    },
    {
      "cell_type": "code",
      "execution_count": null,
      "id": "de3b0d27-1639-4885-bacb-6a70b070bf9e",
      "metadata": {
        "collapsed": true,
        "jupyter": {
          "outputs_hidden": true
        },
        "tags": [],
        "id": "de3b0d27-1639-4885-bacb-6a70b070bf9e"
      },
      "outputs": [],
      "source": [
        "questions = claim['question']\n",
        "ground_truths = claim['ground_truths']\n",
        "contexts = []\n",
        "answers = []\n",
        "\n",
        "# Inference\n",
        "for query in questions:\n",
        "    inputs = {'question':query}\n",
        "    try:\n",
        "        for output in app.stream(inputs):\n",
        "            for key, value in output.items():\n",
        "                pprint(f\"Finished running: {key}:\")\n",
        "        answers.append(value[\"generation\"])\n",
        "        docs = retriever.invoke(query)\n",
        "        contexts.append([docs.page_content for docs in retriever.invoke(query)])\n",
        "    except (RuntimeError, TypeError, NameError, AttributeError,KeyError):\n",
        "        continue\n",
        "    #contexts.append(docs[0].page_content)"
      ]
    },
    {
      "cell_type": "code",
      "execution_count": null,
      "id": "9d8802d6-5b87-4548-9644-639d62ab68cd",
      "metadata": {
        "tags": [],
        "id": "9d8802d6-5b87-4548-9644-639d62ab68cd"
      },
      "outputs": [],
      "source": [
        "# To dict\n",
        "data = {\n",
        "    \"question\": questions,\n",
        "    \"answer\": answers,\n",
        "    'contexts': contexts,\n",
        "    \"ground_truths\": ground_truths\n",
        "}"
      ]
    },
    {
      "cell_type": "code",
      "execution_count": null,
      "id": "cdbbb015-37da-4a02-80b8-9b7ee723a151",
      "metadata": {
        "collapsed": true,
        "jupyter": {
          "outputs_hidden": true
        },
        "tags": [],
        "id": "cdbbb015-37da-4a02-80b8-9b7ee723a151"
      },
      "outputs": [],
      "source": [
        "data['answer']"
      ]
    },
    {
      "cell_type": "code",
      "execution_count": null,
      "id": "83610180-ea45-4409-8aff-c8e8b719369f",
      "metadata": {
        "tags": [],
        "id": "83610180-ea45-4409-8aff-c8e8b719369f"
      },
      "outputs": [],
      "source": [
        "# Convert dict to dataset\n",
        "#dataset = Dataset.from_dict(data)\n",
        "res = pd.DataFrame(data['answer'])\n",
        "res"
      ]
    },
    {
      "cell_type": "code",
      "execution_count": null,
      "id": "2c261d30-938b-454a-a5d0-0a14752a01f9",
      "metadata": {
        "id": "2c261d30-938b-454a-a5d0-0a14752a01f9"
      },
      "outputs": [],
      "source": [
        "res.to_csv('self_rag_g_data.csv')"
      ]
    },
    {
      "cell_type": "code",
      "execution_count": null,
      "id": "e70fe032-c0f6-4d73-9ed8-372525d93497",
      "metadata": {
        "collapsed": true,
        "jupyter": {
          "outputs_hidden": true
        },
        "tags": [],
        "id": "e70fe032-c0f6-4d73-9ed8-372525d93497"
      },
      "outputs": [],
      "source": [
        "## A test\n",
        "app = workflow.compile()\n",
        "\n",
        "#\n",
        "inputs = {\"question\": '''\n",
        "\n",
        "14. Discoloration of fingers or toes is an uncommon but noted symptom of COVID-19.\n",
        "\n",
        "'''}\n",
        "for output in app.stream(inputs):\n",
        "    for key, value in output.items():\n",
        "        pprint(f\"Finished running: {key}:\")\n",
        "value[\"generation\"]"
      ]
    },
    {
      "cell_type": "markdown",
      "id": "5993bc0a-4903-48ea-a5af-7cf6af8df71a",
      "metadata": {
        "jp-MarkdownHeadingCollapsed": true,
        "tags": [],
        "id": "5993bc0a-4903-48ea-a5af-7cf6af8df71a"
      },
      "source": [
        "## Self RAG"
      ]
    },
    {
      "cell_type": "code",
      "execution_count": null,
      "id": "10fdd85a-d955-4501-adf1-b4b6713ebb73",
      "metadata": {
        "id": "10fdd85a-d955-4501-adf1-b4b6713ebb73"
      },
      "outputs": [],
      "source": [
        "### Retrieval Grader\n",
        "\n",
        "from typing import Literal\n",
        "\n",
        "from langchain_core.prompts import ChatPromptTemplate\n",
        "from langchain_core.pydantic_v1 import BaseModel, Field\n",
        "from langchain_openai import ChatOpenAI\n",
        "\n",
        "\n",
        "# Data model\n",
        "class GradeDocuments(BaseModel):\n",
        "    \"\"\"Binary score for relevance check on retrieved documents.\"\"\"\n",
        "\n",
        "    binary_score: str = Field(\n",
        "        description=\"Documents are relevant to the question, 'yes' or 'no'\"\n",
        "    )\n",
        "\n",
        "\n",
        "# LLM with function call\n",
        "llm = ChatOpenAI(model=\"gpt-4\", temperature=0)\n",
        "structured_llm_grader = llm.with_structured_output(GradeDocuments)\n",
        "# Prompt\n",
        "system = \"\"\"You are a grader assessing relevance of a retrieved document to a user question. \\n\n",
        "    It does not need to be a stringent test. The goal is to filter out erroneous retrievals. \\n\n",
        "    If the document contains keyword(s) or semantic meaning related to the user question, grade it as relevant. \\n\n",
        "    Give a binary score 'yes' or 'no' score to indicate whether the document is relevant to the question.\"\"\"\n",
        "grade_prompt = ChatPromptTemplate.from_messages(\n",
        "    [\n",
        "        (\"system\", system),\n",
        "        (\"human\", \"Retrieved document: \\n\\n {document} \\n\\n User question: {question}\"),\n",
        "    ]\n",
        ")\n",
        "\n",
        "retrieval_grader = grade_prompt | structured_llm_grader\n",
        "question = claim['question'][0]\n",
        "docs = retriever.get_relevant_documents(question)\n",
        "doc_txt = docs[1].page_content\n",
        "print(retrieval_grader.invoke({\"question\": question, \"document\": doc_txt}))"
      ]
    },
    {
      "cell_type": "code",
      "execution_count": null,
      "id": "1e49c003-5066-405f-9a9a-310930a9b195",
      "metadata": {
        "id": "1e49c003-5066-405f-9a9a-310930a9b195"
      },
      "outputs": [],
      "source": [
        "## Implement the Generate Chain\n",
        "\n",
        "prompt = PromptTemplate(\n",
        "    template=\"\"\"<|begin_of_text|><|start_header_id|>system<|end_header_id|>\n",
        "    You are an expert for the COVID-19 fact-checking tasks.\n",
        "    Based on pieces of retrieved context to detect the claim is true or false.\n",
        "    You will have to give me the title and author of the context you refered in one sentence.\n",
        "    Use three sentences maximum and keep the answer concise.\n",
        "    If you don't know the answer, just say that you don't know. <|eot_id|><|start_header_id|>user<|end_header_id|>\n",
        "    Question: {question}\n",
        "    Context: {context}\n",
        "    Answer: <|eot_id|><|start_header_id|>assistant<|end_header_id|>\"\"\",\n",
        "    input_variables=[\"question\", \"document\"],\n",
        ")\n",
        "\n",
        "# Post-processing\n",
        "def format_docs(docs):\n",
        "    return \"\\n\\n\".join(doc.page_content for doc in docs)\n",
        "\n",
        "# LLM\n",
        "llm_g = ChatOpenAI(model_name=\"gpt-4\", temperature=0)\n",
        "\n",
        "# Chain\n",
        "start = time.time()\n",
        "rag_chain = prompt | llm_g | StrOutputParser()\n",
        "\n",
        "# Run\n",
        "generation = rag_chain.invoke({\"context\": docs, \"question\": question})\n",
        "print(generation)"
      ]
    },
    {
      "cell_type": "code",
      "execution_count": null,
      "id": "8d6c1182-7a58-49e9-b947-a0723310426a",
      "metadata": {
        "id": "8d6c1182-7a58-49e9-b947-a0723310426a"
      },
      "outputs": [],
      "source": [
        "### Hallucination Grader\n",
        "\n",
        "\n",
        "# Data model\n",
        "class GradeHallucinations(BaseModel):\n",
        "    \"\"\"Binary score for hallucination present in generation answer.\"\"\"\n",
        "\n",
        "    binary_score: str = Field(\n",
        "        description=\"Answer is grounded in the facts, 'yes' or 'no'\"\n",
        "    )\n",
        "\n",
        "\n",
        "# Prompt\n",
        "system = \"\"\"You are a grader assessing whether an LLM generation is grounded in / supported by a set of retrieved facts. \\n\n",
        "     Give a binary score 'yes' or 'no'. 'Yes' means that the answer is grounded in / supported by the set of facts.\"\"\"\n",
        "hallucination_prompt = ChatPromptTemplate.from_messages(\n",
        "    [\n",
        "        (\"system\", system),\n",
        "        (\"human\", \"Set of facts: \\n\\n {documents} \\n\\n LLM generation: {generation}\"),\n",
        "    ]\n",
        ")\n",
        "\n",
        "hallucination_grader = hallucination_prompt | structured_llm_grader\n",
        "hallucination_grader.invoke({\"documents\": docs, \"generation\": generation})"
      ]
    },
    {
      "cell_type": "code",
      "execution_count": null,
      "id": "bb0922a8-69b4-46a8-9ffe-9bf8bde95cc0",
      "metadata": {
        "tags": [],
        "id": "bb0922a8-69b4-46a8-9ffe-9bf8bde95cc0"
      },
      "outputs": [],
      "source": [
        "### Answer Grader\n",
        "\n",
        "\n",
        "# Data model\n",
        "class GradeAnswer(BaseModel):\n",
        "    \"\"\"Binary score to assess answer addresses question.\"\"\"\n",
        "\n",
        "    binary_score: str = Field(\n",
        "        description=\"Answer addresses the question, 'yes' or 'no'\"\n",
        "    )\n",
        "\n",
        "# Prompt\n",
        "system = \"\"\"You are a grader assessing whether an answer addresses / resolves a question \\n\n",
        "     Give a binary score 'yes' or 'no'. Yes' means that the answer resolves the question.\"\"\"\n",
        "answer_prompt = ChatPromptTemplate.from_messages(\n",
        "    [\n",
        "        (\"system\", system),\n",
        "        (\"human\", \"User question: \\n\\n {question} \\n\\n LLM generation: {generation}\"),\n",
        "    ]\n",
        ")\n",
        "\n",
        "answer_grader = answer_prompt | structured_llm_grader\n",
        "answer_grader.invoke({\"question\": question, \"generation\": generation})"
      ]
    },
    {
      "cell_type": "code",
      "execution_count": null,
      "id": "3b620295-2a9a-41be-b263-1dfb0096e833",
      "metadata": {
        "id": "3b620295-2a9a-41be-b263-1dfb0096e833"
      },
      "outputs": [],
      "source": [
        "### Question Re-writer\n",
        "\n",
        "# LLM\n",
        "llm = ChatOpenAI(model=\"gpt-4\", temperature=0)\n",
        "\n",
        "# Prompt\n",
        "system = \"\"\"You a claim re-writer that converts an input claim to a better version that is optimized \\n\n",
        "     for vectorstore retrieval and fact-checking.\n",
        "     Look at the input and try to reason about the underlying semantic intent / meaning.\"\"\"\n",
        "re_write_prompt = ChatPromptTemplate.from_messages(\n",
        "    [\n",
        "        (\"system\", system),\n",
        "        (\n",
        "            \"human\",\n",
        "            \"Here is the initial claim: \\n\\n {question} \\n Formulate an improved claim.\",\n",
        "        ),\n",
        "    ]\n",
        ")\n",
        "\n",
        "question_rewriter = re_write_prompt | llm | StrOutputParser()\n",
        "question_rewriter.invoke({\"question\": question})"
      ]
    },
    {
      "cell_type": "markdown",
      "id": "59b642d5-8dd0-499a-95f1-9ca6214ab3e5",
      "metadata": {
        "jp-MarkdownHeadingCollapsed": true,
        "tags": [],
        "id": "59b642d5-8dd0-499a-95f1-9ca6214ab3e5"
      },
      "source": [
        "## Graph State"
      ]
    },
    {
      "cell_type": "code",
      "execution_count": null,
      "id": "5d3238ff-57e4-432a-8e30-580c53481246",
      "metadata": {
        "id": "5d3238ff-57e4-432a-8e30-580c53481246"
      },
      "outputs": [],
      "source": [
        "from typing_extensions import TypedDict\n",
        "from typing import List\n",
        "\n",
        "\n",
        "class GraphState(TypedDict):\n",
        "    \"\"\"\n",
        "    Represents the state of our graph.\n",
        "\n",
        "    Attributes:\n",
        "        question: question\n",
        "        generation: LLM generation\n",
        "        documents: list of documents\n",
        "    \"\"\"\n",
        "\n",
        "    question: str\n",
        "    generation: str\n",
        "    documents: List[str]"
      ]
    },
    {
      "cell_type": "code",
      "execution_count": null,
      "id": "3299a3f6-37a7-4b4a-bdc8-0a18bc348993",
      "metadata": {
        "id": "3299a3f6-37a7-4b4a-bdc8-0a18bc348993"
      },
      "outputs": [],
      "source": [
        "## Define nodes\n",
        "\n",
        "from langchain.schema import Document\n",
        "def retrieve(state):\n",
        "    \"\"\"\n",
        "    Retrieve documents from vectorstore\n",
        "\n",
        "    Args:\n",
        "        state (dict): The current graph state\n",
        "\n",
        "    Returns:\n",
        "        state (dict): New key added to state, documents, that contains retrieved documents\n",
        "    \"\"\"\n",
        "    print(\"---RETRIEVE---\")\n",
        "    question = state[\"question\"]\n",
        "\n",
        "    # Retrieval\n",
        "    documents = retriever.invoke(question)\n",
        "    return {\"documents\": documents, \"question\": question}\n",
        "#\n",
        "def generate(state):\n",
        "    \"\"\"\n",
        "    Generate answer using RAG on retrieved documents\n",
        "\n",
        "    Args:\n",
        "        state (dict): The current graph state\n",
        "\n",
        "    Returns:\n",
        "        state (dict): New key added to state, generation, that contains LLM generation\n",
        "    \"\"\"\n",
        "    print(\"---GENERATE---\")\n",
        "    question = state[\"question\"]\n",
        "    documents = state[\"documents\"]\n",
        "\n",
        "    # RAG generation\n",
        "    generation = rag_chain.invoke({\"context\": documents, \"question\": question})\n",
        "    return {\"documents\": documents, \"question\": question, \"generation\": generation}\n",
        "#\n",
        "def grade_documents(state):\n",
        "    \"\"\"\n",
        "    Determines whether the retrieved documents are relevant to the question\n",
        "    If any document is not relevant, we will set a flag to run web search\n",
        "\n",
        "    Args:\n",
        "        state (dict): The current graph state\n",
        "\n",
        "    Returns:\n",
        "        state (dict): Filtered out irrelevant documents and updated web_search state\n",
        "    \"\"\"\n",
        "\n",
        "    print(\"---CHECK DOCUMENT RELEVANCE TO QUESTION---\")\n",
        "    question = state[\"question\"]\n",
        "    documents = state[\"documents\"]\n",
        "\n",
        "    # Score each doc\n",
        "    filtered_docs = []\n",
        "    for d in documents:\n",
        "        score = retrieval_grader.invoke(\n",
        "            {\"question\": question, \"document\": d.page_content}\n",
        "        )\n",
        "        grade = score.binary_score\n",
        "        if grade == \"yes\":\n",
        "            print(\"---GRADE: DOCUMENT RELEVANT---\")\n",
        "            filtered_docs.append(d)\n",
        "        else:\n",
        "            print(\"---GRADE: DOCUMENT NOT RELEVANT---\")\n",
        "            continue\n",
        "    return {\"documents\": filtered_docs, \"question\": question}\n",
        "#\n",
        "def transform_query(state):\n",
        "    \"\"\"\n",
        "    Transform the query to produce a better question.\n",
        "\n",
        "    Args:\n",
        "        state (dict): The current graph state\n",
        "\n",
        "    Returns:\n",
        "        state (dict): Updates question key with a re-phrased question\n",
        "    \"\"\"\n",
        "\n",
        "    print(\"---TRANSFORM QUERY---\")\n",
        "    question = state[\"question\"]\n",
        "    documents = state[\"documents\"]\n",
        "\n",
        "    # Re-write question\n",
        "    better_question = question_rewriter.invoke({\"question\": question})\n",
        "    return {\"documents\": documents, \"question\": better_question}\n",
        "\n",
        "#"
      ]
    },
    {
      "cell_type": "code",
      "execution_count": null,
      "id": "ba93b562-2fda-463c-84c6-93ce235efc4b",
      "metadata": {
        "id": "ba93b562-2fda-463c-84c6-93ce235efc4b"
      },
      "outputs": [],
      "source": [
        "## Define edges\n",
        "\n",
        "def decide_to_generate(state):\n",
        "    \"\"\"\n",
        "    Determines whether to generate an answer, or re-generate a question.\n",
        "\n",
        "    Args:\n",
        "        state (dict): The current graph state\n",
        "\n",
        "    Returns:\n",
        "        str: Binary decision for next node to call\n",
        "    \"\"\"\n",
        "\n",
        "    print(\"---ASSESS GRADED DOCUMENTS---\")\n",
        "    question = state[\"question\"]\n",
        "    filtered_documents = state[\"documents\"]\n",
        "\n",
        "    if not filtered_documents:\n",
        "        # All documents have been filtered check_relevance\n",
        "        # We will re-generate a new query\n",
        "        print(\n",
        "            \"---DECISION: ALL DOCUMENTS ARE NOT RELEVANT TO QUESTION, TRANSFORM QUERY---\"\n",
        "        )\n",
        "        return \"transform_query\"\n",
        "    else:\n",
        "        # We have relevant documents, so generate answer\n",
        "        print(\"---DECISION: GENERATE---\")\n",
        "        return \"generate\""
      ]
    },
    {
      "cell_type": "code",
      "execution_count": null,
      "id": "1e21be5f-93fe-4f70-8960-0d0401bc8705",
      "metadata": {
        "id": "1e21be5f-93fe-4f70-8960-0d0401bc8705"
      },
      "outputs": [],
      "source": [
        "def grade_generation_v_documents_and_question(state):\n",
        "    \"\"\"\n",
        "    Determines whether the generation is grounded in the document and answers question.\n",
        "\n",
        "    Args:\n",
        "        state (dict): The current graph state\n",
        "\n",
        "    Returns:\n",
        "        str: Decision for next node to call\n",
        "    \"\"\"\n",
        "\n",
        "    print(\"---CHECK HALLUCINATIONS---\")\n",
        "    question = state[\"question\"]\n",
        "    documents = state[\"documents\"]\n",
        "    generation = state[\"generation\"]\n",
        "\n",
        "    score = hallucination_grader.invoke(\n",
        "        {\"documents\": documents, \"generation\": generation}\n",
        "    )\n",
        "    grade = score.binary_score\n",
        "\n",
        "    # Check hallucination\n",
        "    if grade == \"yes\":\n",
        "        print(\"---DECISION: GENERATION IS GROUNDED IN DOCUMENTS---\")\n",
        "        # Check question-answering\n",
        "        print(\"---GRADE GENERATION vs QUESTION---\")\n",
        "        score = answer_grader.invoke({\"question\": question, \"generation\": generation})\n",
        "        grade = score.binary_score\n",
        "        if grade == \"yes\":\n",
        "            print(\"---DECISION: GENERATION ADDRESSES QUESTION---\")\n",
        "            return \"useful\"\n",
        "        else:\n",
        "            print(\"---DECISION: GENERATION DOES NOT ADDRESS QUESTION---\")\n",
        "            return \"not useful\"\n",
        "    else:\n",
        "        pprint(\"---DECISION: GENERATION IS NOT GROUNDED IN DOCUMENTS, RE-TRY---\")\n",
        "        return \"not supported\""
      ]
    },
    {
      "cell_type": "code",
      "execution_count": null,
      "id": "5cd5f64d-5dfb-4554-a814-c6745a67c058",
      "metadata": {
        "id": "5cd5f64d-5dfb-4554-a814-c6745a67c058"
      },
      "outputs": [],
      "source": [
        "## Build Graph\n",
        "\n",
        "from langgraph.graph import END, StateGraph\n",
        "\n",
        "workflow = StateGraph(GraphState)\n",
        "\n",
        "# Define the nodes\n",
        "workflow.add_node(\"retrieve\", retrieve)  # retrieve\n",
        "workflow.add_node(\"grade_documents\", grade_documents)  # grade documents\n",
        "workflow.add_node(\"generate\", generate)  # generatae\n",
        "workflow.add_node(\"transform_query\", transform_query)  # transform_query\n",
        "\n",
        "# Build graph\n",
        "workflow.set_entry_point(\"retrieve\")\n",
        "workflow.add_edge(\"retrieve\", \"grade_documents\")\n",
        "workflow.add_conditional_edges(\n",
        "    \"grade_documents\",\n",
        "    decide_to_generate,\n",
        "    {\n",
        "        \"transform_query\": \"transform_query\",\n",
        "        \"generate\": \"generate\",\n",
        "    },\n",
        ")\n",
        "workflow.add_edge(\"transform_query\", \"retrieve\")\n",
        "workflow.add_conditional_edges(\n",
        "    \"generate\",\n",
        "    grade_generation_v_documents_and_question,\n",
        "    {\n",
        "        \"not supported\": \"generate\",\n",
        "        \"useful\": END,\n",
        "        \"not useful\": \"transform_query\",\n",
        "    },\n",
        ")\n",
        "\n"
      ]
    },
    {
      "cell_type": "code",
      "execution_count": null,
      "id": "f021120c-e2e2-4433-a88d-9cd6c3726fc4",
      "metadata": {
        "id": "f021120c-e2e2-4433-a88d-9cd6c3726fc4"
      },
      "outputs": [],
      "source": [
        "# Compile\n",
        "app = workflow.compile()"
      ]
    },
    {
      "cell_type": "markdown",
      "id": "2d5a5a84-f425-44d6-bf41-c993649e9409",
      "metadata": {
        "jp-MarkdownHeadingCollapsed": true,
        "tags": [],
        "id": "2d5a5a84-f425-44d6-bf41-c993649e9409"
      },
      "source": [
        "## Self RAG Performance"
      ]
    },
    {
      "cell_type": "code",
      "execution_count": null,
      "id": "b21d5b3c-66dd-492c-b5b4-baceda9c63fd",
      "metadata": {
        "collapsed": true,
        "jupyter": {
          "outputs_hidden": true
        },
        "tags": [],
        "id": "b21d5b3c-66dd-492c-b5b4-baceda9c63fd"
      },
      "outputs": [],
      "source": [
        "## Test the workflow\n",
        "\n",
        "from pprint import pprint\n",
        "inputs = {\"question\": '''\n",
        "\n",
        "7. Effective ventilation of indoor spaces can reduce the airborne spread of COVID-19.\n",
        "\n",
        "'''}\n",
        "for output in app.stream(inputs):\n",
        "    for key, value in output.items():\n",
        "        pprint(f\"Finished running: {key}:\")\n",
        "pprint(value[\"generation\"])\n",
        "\n",
        "value[\"generation\"]"
      ]
    },
    {
      "cell_type": "code",
      "execution_count": null,
      "id": "f36cf108-0f9a-4f35-8c52-694932fd56ce",
      "metadata": {
        "collapsed": true,
        "jupyter": {
          "outputs_hidden": true
        },
        "tags": [],
        "id": "f36cf108-0f9a-4f35-8c52-694932fd56ce"
      },
      "outputs": [],
      "source": [
        "data['answer']"
      ]
    },
    {
      "cell_type": "code",
      "execution_count": null,
      "id": "da2e4707-8784-47ee-a36d-daf3b96a6848",
      "metadata": {
        "collapsed": true,
        "jupyter": {
          "outputs_hidden": true
        },
        "tags": [],
        "id": "da2e4707-8784-47ee-a36d-daf3b96a6848"
      },
      "outputs": [],
      "source": [
        "questions = claim['question']\n",
        "ground_truths = claim['ground_truths']\n",
        "contexts = []\n",
        "answers = []\n",
        "\n",
        "# Inference\n",
        "for query in questions:\n",
        "    inputs = {'question':query}\n",
        "    try:\n",
        "        for output in app.stream(inputs):\n",
        "            for key, value in output.items():\n",
        "                pprint(f\"Finished running: {key}:\")\n",
        "        answers.append(value[\"generation\"])\n",
        "        docs = retriever.invoke(query)\n",
        "        contexts.append([docs.page_content for docs in retriever.invoke(query)])\n",
        "    except (RuntimeError, TypeError, NameError, AttributeError,KeyError):\n",
        "        continue\n",
        "    #contexts.append(docs[0].page_content)"
      ]
    },
    {
      "cell_type": "code",
      "execution_count": null,
      "id": "86a482b5-b490-4244-a4ba-486947f14acf",
      "metadata": {
        "id": "86a482b5-b490-4244-a4ba-486947f14acf"
      },
      "outputs": [],
      "source": [
        "# To dict\n",
        "data = {\n",
        "    \"question\": questions,\n",
        "    \"answer\": answers,\n",
        "    'contexts': contexts,\n",
        "    \"ground_truths\": ground_truths\n",
        "}"
      ]
    },
    {
      "cell_type": "code",
      "execution_count": null,
      "id": "90c0bbd5-9bed-44be-990a-602ee2fd7bc5",
      "metadata": {
        "collapsed": true,
        "jupyter": {
          "outputs_hidden": true
        },
        "tags": [],
        "id": "90c0bbd5-9bed-44be-990a-602ee2fd7bc5"
      },
      "outputs": [],
      "source": [
        "# Convert dict to dataset\n",
        "#dataset = Dataset.from_dict(data)\n",
        "res = pd.DataFrame(data['answer'])\n",
        "res"
      ]
    },
    {
      "cell_type": "code",
      "execution_count": null,
      "id": "6a07a195-5116-4ebc-b8c6-051a4554f9f7",
      "metadata": {
        "id": "6a07a195-5116-4ebc-b8c6-051a4554f9f7"
      },
      "outputs": [],
      "source": [
        "res.to_csv('self_rag_g_data.csv')"
      ]
    },
    {
      "cell_type": "markdown",
      "id": "ee5c75e1-ed11-441c-8614-c9f18a563675",
      "metadata": {
        "jp-MarkdownHeadingCollapsed": true,
        "tags": [],
        "id": "ee5c75e1-ed11-441c-8614-c9f18a563675"
      },
      "source": [
        "## Visualize the Agent / Graph"
      ]
    },
    {
      "cell_type": "code",
      "execution_count": null,
      "id": "6b1b4ec7-f796-4fc8-9bae-1428617e99b8",
      "metadata": {
        "tags": [],
        "id": "6b1b4ec7-f796-4fc8-9bae-1428617e99b8"
      },
      "outputs": [],
      "source": [
        "print(app.get_graph().draw_mermaid())"
      ]
    },
    {
      "cell_type": "code",
      "execution_count": null,
      "id": "4bd3cd3a-136b-41c1-8f6d-ed9fcb3d332b",
      "metadata": {
        "collapsed": true,
        "jupyter": {
          "outputs_hidden": true
        },
        "tags": [],
        "id": "4bd3cd3a-136b-41c1-8f6d-ed9fcb3d332b"
      },
      "outputs": [],
      "source": [
        "from langchain_core.runnables.graph import CurveStyle, NodeColors, MermaidDrawMethod\n",
        "from IPython.display import display, HTML, Image\n",
        "\n",
        "display(\n",
        "    Image(\n",
        "        app.get_graph().draw_mermaid_png(\n",
        "            draw_method=MermaidDrawMethod.API,\n",
        "        )\n",
        "    )\n",
        ")"
      ]
    },
    {
      "cell_type": "code",
      "execution_count": null,
      "id": "e4fa38bd-9134-4752-b351-ce4d1c576676",
      "metadata": {
        "id": "e4fa38bd-9134-4752-b351-ce4d1c576676"
      },
      "outputs": [],
      "source": []
    }
  ],
  "metadata": {
    "kernelspec": {
      "display_name": "Python 3 (ipykernel)",
      "language": "python",
      "name": "python3"
    },
    "language_info": {
      "codemirror_mode": {
        "name": "ipython",
        "version": 3
      },
      "file_extension": ".py",
      "mimetype": "text/x-python",
      "name": "python",
      "nbconvert_exporter": "python",
      "pygments_lexer": "ipython3",
      "version": "3.10.12"
    },
    "colab": {
      "provenance": [],
      "collapsed_sections": [
        "17ea1311-3d17-4e81-86da-905ec5c9555e"
      ]
    }
  },
  "nbformat": 4,
  "nbformat_minor": 5
}